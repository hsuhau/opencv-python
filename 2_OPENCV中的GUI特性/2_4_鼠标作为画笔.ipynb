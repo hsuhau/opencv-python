{
 "cells": [
  {
   "cell_type": "code",
   "execution_count": 15,
   "metadata": {
    "collapsed": true
   },
   "outputs": [
    {
     "name": "stdout",
     "output_type": "stream",
     "text": [
      "result:  [[0.]]\n",
      "\n",
      "neighbours:  [[0. 1. 0.]]\n",
      "\n",
      "distance:  [[106. 569. 586.]]\n",
      "\n"
     ]
    },
    {
     "data": {
      "text/plain": "<Figure size 432x288 with 1 Axes>",
      "image/png": "[encoded data removed]"
     },
     "metadata": {
      "needs_background": "light"
     },
     "output_type": "display_data"
    }
   ],
   "source": [
    "import cv2 as cv\n",
    "import numpy as np\n",
    "import matplotlib.pyplot as plt\n",
    "# 包含(x,y)值的25个已知/训练数据的特征集\n",
    "trainData = np.random.randint(0,100,(25,2)).astype(np.float32)\n",
    "# 用数字0和1分别标记红色或蓝色\n",
    "responses = np.random.randint(0,2,(25,1)).astype(np.float32)\n",
    "# 取红色族并绘图\n",
    "red = trainData[responses.ravel()==0]\n",
    "plt.scatter(red[:,0],red[:,1],80,'r','^')\n",
    "# 取蓝色族并绘图\n",
    "blue = trainData[responses.ravel()==1]\n",
    "plt.scatter(blue[:,0],blue[:,1],80,'b','s')\n",
    "# plt.show()\n",
    "\n",
    "newcomer = np.random.randint(0,100,(1,2)).astype(np.float32)\n",
    "plt.scatter(newcomer[:,0],newcomer[:,1],80,'g','o')\n",
    "knn = cv.ml.KNearest_create()\n",
    "knn.train(trainData, cv.ml.ROW_SAMPLE, responses)\n",
    "ret, results, neighbours ,dist = knn.findNearest(newcomer, 3)\n",
    "print( \"result:  {}\\n\".format(results) )\n",
    "print( \"neighbours:  {}\\n\".format(neighbours) )\n",
    "print( \"distance:  {}\\n\".format(dist) )\n",
    "plt.show()"
   ]
  }
 ],
 "metadata": {
  "kernelspec": {
   "display_name": "Python 3",
   "language": "python",
   "name": "python3"
  },
  "language_info": {
   "codemirror_mode": {
    "name": "ipython",
    "version": 2
   },
   "file_extension": ".py",
   "mimetype": "text/x-python",
   "name": "python",
   "nbconvert_exporter": "python",
   "pygments_lexer": "ipython2",
   "version": "2.7.6"
  }
 },
 "nbformat": 4,
 "nbformat_minor": 0
}